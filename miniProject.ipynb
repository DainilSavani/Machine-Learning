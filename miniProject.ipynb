{
  "nbformat": 4,
  "nbformat_minor": 0,
  "metadata": {
    "colab": {
      "name": "miniProject.ipynb",
      "provenance": [],
      "toc_visible": true,
      "mount_file_id": "1Mi_qLCBtK1mgXEDr-G-pMxJHqWjGOzaf",
      "authorship_tag": "ABX9TyOn9KkUMzvuB7xRuU+H1/hF",
      "include_colab_link": true
    },
    "kernelspec": {
      "name": "python3",
      "display_name": "Python 3"
    },
    "language_info": {
      "name": "python"
    }
  },
  "cells": [
    {
      "cell_type": "markdown",
      "metadata": {
        "id": "view-in-github",
        "colab_type": "text"
      },
      "source": [
        "<a href=\"https://colab.research.google.com/github/DainilSavani/Machine-Learning/blob/main/miniProject.ipynb\" target=\"_parent\"><img src=\"https://colab.research.google.com/assets/colab-badge.svg\" alt=\"Open In Colab\"/></a>"
      ]
    },
    {
      "cell_type": "markdown",
      "metadata": {
        "id": "dEgPfyF5I2k8"
      },
      "source": [
        "**Email spam detection**"
      ]
    },
    {
      "cell_type": "markdown",
      "metadata": {
        "id": "Hf3itp7IwuKP"
      },
      "source": [
        "Method 1: Logistic regression"
      ]
    },
    {
      "cell_type": "code",
      "metadata": {
        "id": "mOGAx4mKJC4A",
        "colab": {
          "base_uri": "https://localhost:8080/"
        },
        "outputId": "3f91b1a6-2504-4391-de69-8d1b93ca9af1"
      },
      "source": [
        "import pandas as pd\n",
        "import numpy as np\n",
        "import math\n",
        "import random\n",
        "from sklearn.preprocessing import normalize\n",
        "from sklearn.model_selection import train_test_split\n",
        "from matplotlib import pyplot as plt\n",
        "\n",
        "data = pd.read_csv(\"emails.csv\")\n",
        "print(data)"
      ],
      "execution_count": null,
      "outputs": [
        {
          "output_type": "stream",
          "name": "stdout",
          "text": [
            "       Email No.  the  to  ect  and  ...  military  allowing  ff  dry  Prediction\n",
            "0        Email 1    0   0    1    0  ...         0         0   0    0           0\n",
            "1        Email 2    8  13   24    6  ...         0         0   1    0           0\n",
            "2        Email 3    0   0    1    0  ...         0         0   0    0           0\n",
            "3        Email 4    0   5   22    0  ...         0         0   0    0           0\n",
            "4        Email 5    7   6   17    1  ...         0         0   1    0           0\n",
            "...          ...  ...  ..  ...  ...  ...       ...       ...  ..  ...         ...\n",
            "5167  Email 5168    2   2    2    3  ...         0         0   0    0           0\n",
            "5168  Email 5169   35  27   11    2  ...         0         0   1    0           0\n",
            "5169  Email 5170    0   0    1    1  ...         0         0   0    0           1\n",
            "5170  Email 5171    2   7    1    0  ...         0         0   1    0           1\n",
            "5171  Email 5172   22  24    5    1  ...         0         0   0    0           0\n",
            "\n",
            "[5172 rows x 3002 columns]\n"
          ]
        }
      ]
    },
    {
      "cell_type": "code",
      "metadata": {
        "id": "YZqfEBz5Sq-N",
        "colab": {
          "base_uri": "https://localhost:8080/"
        },
        "outputId": "a520ed71-adf8-4e16-eb32-684ed7b3f580"
      },
      "source": [
        "features = [f for f in data.columns if f != 'Prediction' and f != 'Email No.']\n",
        "print(len(features))"
      ],
      "execution_count": null,
      "outputs": [
        {
          "output_type": "stream",
          "name": "stdout",
          "text": [
            "3000\n"
          ]
        }
      ]
    },
    {
      "cell_type": "code",
      "metadata": {
        "id": "f8RUYnQ3M-zR"
      },
      "source": [
        "def training(train_x, train_y, a, rho, epoch):\n",
        "  w_arr = [random.random()/10 for i in range(len(train_x[0]))]\n",
        "  ep = 0\n",
        "  curr_loss = prev_loss = float('inf') \n",
        "  while ep<epoch:\n",
        "    ep += 1\n",
        "    curr_loss = 0\n",
        "    for i in range(len(train_x)):  \n",
        "      w = w_arr[2999]\n",
        "      for p in range(len(w_arr)-1):\n",
        "        w = w + train_x[i][p]*w_arr[p]\n",
        "      h = (1 + math.exp(w*(-1)))**(-1)\n",
        "      if train_y[i]==0:\n",
        "        curr_loss += math.log(1-h)\n",
        "      else:\n",
        "        curr_loss += math.log(h)\n",
        "      w_arr[2999] -= a*(h-train_y[i])\n",
        "      for o in range(len(w_arr)-1):\n",
        "        w_arr[o] -= a*(h - train_y[i])*train_x[i][o]\n",
        "    curr_loss = curr_loss/len(train)\n",
        "    if abs(curr_loss - prev_loss)<rho:\n",
        "      break\n",
        "  print(\"No. of epoch: \",ep,\"\\t\\tError: \",curr_loss)\n",
        "  return w_arr"
      ],
      "execution_count": null,
      "outputs": []
    },
    {
      "cell_type": "code",
      "metadata": {
        "id": "9PUNFT4BQw76"
      },
      "source": [
        "def validation(valid_x, valid_y, w_arr):\n",
        "  loss = 0\n",
        "  for i in range(len(valid_x)):\n",
        "    w = w_arr[2999]\n",
        "    for p in range(len(w_arr)-1):\n",
        "      w = w + valid_x[i][p]*w_arr[p]\n",
        "    h = (1 + math.exp(w*(-1)))**(-1)\n",
        "    if valid_y[i]==0:\n",
        "      loss += math.log(1-h)\n",
        "    else:\n",
        "      loss += math.log(h)\n",
        "  loss = loss/len(valid_x)\n",
        "  return abs(loss)"
      ],
      "execution_count": null,
      "outputs": []
    },
    {
      "cell_type": "code",
      "metadata": {
        "id": "B9I-_sK5Q6F8"
      },
      "source": [
        "def testing(test_x, w_arr):\n",
        "  result = [0 for i in range(len(test_x))]\n",
        "  for i in range(len(test_x)):\n",
        "    h = w_arr[2999]\n",
        "    for j in range(len(w_arr)-1):\n",
        "      h += test_x[i][j]*w_arr[j]\n",
        "    y = (1 + math.exp(h*(-1)))**(-1)\n",
        "    result[i] = y\n",
        "  return result"
      ],
      "execution_count": null,
      "outputs": []
    },
    {
      "cell_type": "code",
      "metadata": {
        "id": "GlmZEky76SbI"
      },
      "source": [
        "def prediction(result):\n",
        "  for i in range(len(result)):\n",
        "    if result[i] >= 0.5:\n",
        "      result[i] = 1\n",
        "    else:\n",
        "      result[i] = 0\n",
        "  return result"
      ],
      "execution_count": null,
      "outputs": []
    },
    {
      "cell_type": "code",
      "metadata": {
        "id": "H2vOIa5i7Kaf"
      },
      "source": [
        "def accuracy(actual, predicted):\n",
        "  return 1 - (np.count_nonzero(np.subtract(actual, predicted))/len(actual))"
      ],
      "execution_count": null,
      "outputs": []
    },
    {
      "cell_type": "code",
      "metadata": {
        "id": "VI6DIob7RiPU"
      },
      "source": [
        "def precision(actual, predicted, label):\n",
        "  true = total = 0\n",
        "  for i in range(len(predicted)):\n",
        "    if predicted[i] == label and actual[i] == label:\n",
        "      true += 1\n",
        "    if predicted[i] == label:\n",
        "      total += 1;\n",
        "  if total == 0:\n",
        "    return 0\n",
        "  else:\n",
        "    return true/total"
      ],
      "execution_count": null,
      "outputs": []
    },
    {
      "cell_type": "code",
      "metadata": {
        "id": "wLOh7tqNSFFf"
      },
      "source": [
        "def recall(actual, predicted, label):\n",
        "  true = total = 0\n",
        "  for i in range(len(predicted)):\n",
        "    if predicted[i] == label and actual[i] == label:\n",
        "      true += 1;\n",
        "    if actual[i] == label:\n",
        "      total += 1;\n",
        "  if total == 0:\n",
        "    return 0\n",
        "  else:\n",
        "    return true/total"
      ],
      "execution_count": null,
      "outputs": []
    },
    {
      "cell_type": "code",
      "metadata": {
        "id": "DfRNWFuPSUXp"
      },
      "source": [
        "def printResult(actual, predicted):\n",
        "  print(\"\\nOverAll Accuracy: {:.2%}\".format(accuracy(actual, predicted)))\n",
        "  for i in range(2):\n",
        "    print(\"Precision for class {}: {:.2%}\".format(i, precision(actual, predicted, i)))\n",
        "  print()\n",
        "  for i in range(2):\n",
        "    print(\"Recall for class {}: {:.2%}\".format(i, recall(actual, predicted, i)))"
      ],
      "execution_count": null,
      "outputs": []
    },
    {
      "cell_type": "code",
      "metadata": {
        "id": "Sk4Tn56yE6_N"
      },
      "source": [
        "data = data.sample(frac=1)\n",
        "train, val = train_test_split(data, test_size=0.5)\n",
        "val, test = train_test_split(data, test_size=0.8)\n",
        "\n",
        "train_x, train_y = normalize(np.array(train[features])), np.array(train['Prediction'])\n",
        "val_x, val_y = normalize(np.array(val[features])), np.array(val['Prediction'])\n",
        "test_x, test_y = normalize(np.array(test[features])), np.array(test['Prediction'])"
      ],
      "execution_count": null,
      "outputs": []
    },
    {
      "cell_type": "code",
      "metadata": {
        "id": "HngpiDGQQ8uR",
        "colab": {
          "base_uri": "https://localhost:8080/",
          "height": 318
        },
        "outputId": "59c9f08e-2cd6-4242-cab8-b2f23a439200"
      },
      "source": [
        "alpha = [0.1, 0.5, 0.01]\n",
        "rho = [0.01, 0.001, 0.0001]\n",
        "epoch = [10, 50, 50]\n",
        "mse = []\n",
        "\n",
        "for i in range(3):\n",
        "  w_arr = training(train_x, train_y, alpha[i], rho[i], epoch[i])\n",
        "  mse.append(validation(val_x, val_y, w_arr))\n",
        "plt.scatter(np.arange(3), mse)\n",
        "plt.show()"
      ],
      "execution_count": null,
      "outputs": [
        {
          "output_type": "stream",
          "name": "stdout",
          "text": [
            "No. of epoch:  10 \t\tError:  -0.33252634473827897\n",
            "No. of epoch:  50 \t\tError:  -0.13663600368924067\n",
            "No. of epoch:  50 \t\tError:  -0.37287911763438547\n"
          ]
        },
        {
          "output_type": "display_data",
          "data": {
            "image/png": "[encoded data removed]",
            "text/plain": [
              "<Figure size 432x288 with 1 Axes>"
            ]
          },
          "metadata": {
            "needs_background": "light"
          }
        }
      ]
    },
    {
      "cell_type": "code",
      "metadata": {
        "id": "bbWN9_5Q-Mbk",
        "colab": {
          "base_uri": "https://localhost:8080/"
        },
        "outputId": "1ff83d17-b58e-4817-da4a-3746b6bbb57b"
      },
      "source": [
        "weight = training(train_x, train_y, alpha[1], rho[1], epoch[1])\n",
        "result = testing(test_x, w_arr)\n",
        "predicted = prediction(result)\n",
        "printResult(test_y, predicted)"
      ],
      "execution_count": null,
      "outputs": [
        {
          "output_type": "stream",
          "name": "stdout",
          "text": [
            "No. of epoch:  50 \t\tError:  -0.13663876614061043\n",
            "\n",
            "OverAll Accuracy: 82.41%\n",
            "Precision for class 0: 82.08%\n",
            "Precision for class 1: 84.02%\n",
            "\n",
            "Recall for class 0: 96.18%\n",
            "Recall for class 1: 48.88%\n"
          ]
        }
      ]
    },
    {
      "cell_type": "markdown",
      "metadata": {
        "id": "31e98I-xAyei"
      },
      "source": [
        "Method 2: Single Layer Perceptron"
      ]
    },
    {
      "cell_type": "code",
      "metadata": {
        "colab": {
          "base_uri": "https://localhost:8080/"
        },
        "id": "1iYNUrXnA3zJ",
        "outputId": "b4e61808-dd26-4443-d928-4ab7ec60b023"
      },
      "source": [
        "from sklearn.linear_model import Perceptron\n",
        "\n",
        "clf = Perceptron(tol=1e-3, random_state=1).fit(test_x, test_y)\n",
        "predicted = clf.predict(test_x)\n",
        "printResult(test_y, predicted)"
      ],
      "execution_count": null,
      "outputs": [
        {
          "output_type": "stream",
          "name": "stdout",
          "text": [
            "\n",
            "OverAll Accuracy: 97.27%\n",
            "Precision for class 0: 97.13%\n",
            "Precision for class 1: 97.64%\n",
            "\n",
            "Recall for class 0: 99.08%\n",
            "Recall for class 1: 92.86%\n"
          ]
        }
      ]
    },
    {
      "cell_type": "markdown",
      "metadata": {
        "id": "jdnybbtczXpp"
      },
      "source": [
        "Method 3: Multi Layer Perceptron"
      ]
    },
    {
      "cell_type": "code",
      "metadata": {
        "id": "l1G38LAO1Q3B"
      },
      "source": [
        "from sklearn.neural_network import MLPClassifier\n",
        "\n",
        "clf = MLPClassifier(hidden_layer_sizes=(20),activation=\"relu\",random_state=1).fit(train_x, train_y)\n",
        "predicted = clf.predict(test_x)\n",
        "printResult(test_y, predicted)"
      ],
      "execution_count": null,
      "outputs": []
    }
  ]
}